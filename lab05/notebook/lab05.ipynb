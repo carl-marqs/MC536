{
 "cells": [
  {
   "cell_type": "code",
   "execution_count": 1,
   "metadata": {},
   "outputs": [],
   "source": [
    "%defaultDatasource jdbc:h2:mem:db"
   ]
  },
  {
   "cell_type": "code",
   "execution_count": 2,
   "metadata": {},
   "outputs": [],
   "source": [
    "DROP TABLE IF EXISTS Drug;\n",
    "DROP TABLE IF EXISTS Pathology;\n",
    "DROP TABLE IF EXISTS DrugUse;\n",
    "\n",
    "CREATE TABLE Drug (\n",
    "  code INT NOT NULL,\n",
    "  name VARCHAR(200) NOT NULL,\n",
    "  PRIMARY KEY(code)\n",
    ") AS SELECT\n",
    "    code,\n",
    "    name\n",
    "FROM CSVREAD('../../../data/faers-2017/drug.csv');\n",
    "\n",
    "CREATE TABLE Pathology (\n",
    "  code INT NOT NULL,\n",
    "  name VARCHAR(200) NOT NULL,\n",
    "  PRIMARY KEY(code)\n",
    ") AS SELECT\n",
    "    code,\n",
    "    name\n",
    "FROM CSVREAD('../../../data/faers-2017/pathology.csv');\n",
    "\n",
    "CREATE TABLE DrugUse (\n",
    "  idPerson INT NOT NULL,\n",
    "  codePathology INT NOT NULL,\n",
    "  codeDrug INT NOT NULL,\n",
    "  FOREIGN KEY(codePathology)\n",
    "    REFERENCES Pathology(code)\n",
    "      ON DELETE NO ACTION\n",
    "      ON UPDATE NO ACTION,\n",
    "  FOREIGN KEY(codeDrug)\n",
    "    REFERENCES Drug(code)\n",
    "      ON DELETE NO ACTION\n",
    "      ON UPDATE NO ACTION,\n",
    ") AS SELECT\n",
    "    idPerson,\n",
    "    codePathology,\n",
    "    codeDrug\n",
    "FROM CSVREAD('../../../data/faers-2017/drug-use.csv');\n",
    "\n",
    "CREATE TABLE SideEffect(\n",
    "  idPerson INT NOT NULL,\n",
    "  codePathology INT NOT NULL,\n",
    "  FOREIGN KEY(codePathology)\n",
    "    REFERENCES Pathology(code)\n",
    "      ON DELETE NO ACTION\n",
    "      ON UPDATE NO ACTION\n",
    ") AS SELECT idPerson, codePathology\n",
    "FROM CSVREAD('../../../data/faers-2017/sideeffect.csv');"
   ]
  },
  {
   "cell_type": "code",
   "execution_count": 3,
   "metadata": {},
   "outputs": [
    {
     "data": {
      "application/vnd.jupyter.widget-view+json": {
       "model_id": "c7a0b4bb-bd46-4b63-a773-f2ede958d764",
       "version_major": 2,
       "version_minor": 0
      },
      "method": "display_data"
     },
     "metadata": {},
     "output_type": "display_data"
    },
    {
     "data": {
      "application/vnd.jupyter.widget-view+json": {
       "model_id": "0aa7a2f4-f214-4c2e-a1d6-0969644b3222",
       "version_major": 2,
       "version_minor": 0
      },
      "method": "display_data"
     },
     "metadata": {},
     "output_type": "display_data"
    },
    {
     "data": {
      "application/vnd.jupyter.widget-view+json": {
       "model_id": "30c2ddc1-84bc-4d83-b647-651aba83f5fe",
       "version_major": 2,
       "version_minor": 0
      },
      "method": "display_data"
     },
     "metadata": {},
     "output_type": "display_data"
    },
    {
     "data": {
      "application/vnd.jupyter.widget-view+json": {
       "model_id": "2d2c89ff-a4d5-4aa3-8f66-acaec1eec060",
       "version_major": 2,
       "version_minor": 0
      },
      "method": "display_data"
     },
     "metadata": {},
     "output_type": "display_data"
    }
   ],
   "source": [
    "SELECT * FROM Drug;\n",
    "SELECT * FROM Pathology;\n",
    "SELECT * FROM DrugUse;\n",
    "SELECT * FROM SideEffect;"
   ]
  },
  {
   "cell_type": "markdown",
   "metadata": {},
   "source": [
    "# FDA Adverse Event Reporting System (FAERS)\n",
    "\n",
    "[FDA Adverse Event Reporting System (FAERS)](https://open.fda.gov/data/faers/).\n",
    "\n",
    "Fonte de dados: https://www.fda.gov/drugs/fda-adverse-event-reporting-system-faers/fda-adverse-event-reporting-system-faers-latest-quarterly-data-files"
   ]
  },
  {
   "cell_type": "markdown",
   "metadata": {},
   "source": [
    "# Interação entre medicamentos\n",
    "Considere como uma interação toda vez que um medicamento A é tomado em conjunto com um medicamento B por uma pessoa. Crie uma consulta que retorne para cada par de medicamento A,B o número de interações, somente para aqueles medicamentos que são tomados em conjunto mais de 30 vezes (passaremos a chamar de **grupo mais 30**)."
   ]
  },
  {
   "cell_type": "code",
   "execution_count": null,
   "metadata": {},
   "outputs": [],
   "source": [
    "DROP VIEW IF EXISTS Interaction;\n",
    "DROP VIEW IF EXISTS Interaction30;\n",
    "\n",
    "CREATE VIEW Interaction AS\n",
    "SELECT DUA.codeDrug AS drugA, DUB.codeDrug AS drugB\n",
    "FROM DrugUse AS A, DrugUse AS B\n",
    "WHERE A.IdPerson = B.IdPerson AND A.codeDrug < B.codeDrug;\n",
    "\n",
    "CREATE VIEW Interaction30 AS\n",
    "SELECT drugA, drugB, count(*) weight\n",
    "FROM Interaction\n",
    "GROUP BY drugA, drugB\n",
    "HAVING weight > 30;\n",
    "\n",
    "SELECT * FROM Interaction30;"
   ]
  },
  {
   "cell_type": "markdown",
   "metadata": {},
   "source": [
    "## Tabela Resultante\n",
    "\n",
    "Se estiver demorando muito para gerar a tabela, você poderá usar a seguinte tabela resultante pronta. Essa tabela tem todas as interações, você ainda precisará filtrar o **grupo mais 30**."
   ]
  },
  {
   "cell_type": "code",
   "execution_count": 5,
   "metadata": {},
   "outputs": [
    {
     "ename": "org.h2.jdbc.JdbcSQLException",
     "evalue": " Table \"DRUGINTERACTION\" already exists; SQL statement",
     "output_type": "error",
     "text": "org.h2.jdbc.JdbcSQLException: Table \"DRUGINTERACTION\" already exists; SQL statement:\nCREATE TABLE DrugInteraction (\ndruga INT NOT NULL,\ndrugb INT NOT NULL,\nweight INT NOT NULL,\nPRIMARY KEY(druga, drugb)\n) AS SELECT\ndruga,\ndrugb,\nweight\nFROM CSVREAD('../../../data/faers-2017/results/drug-interaction.csv') [42101-197]",
     "traceback": [
      "\u001b[1;31morg.h2.jdbc.JdbcSQLException: Table \"DRUGINTERACTION\" already exists; SQL statement:\u001b[0;0m",
      "\u001b[1;31mCREATE TABLE DrugInteraction (\u001b[0;0m",
      "\u001b[1;31mdruga INT NOT NULL,\u001b[0;0m",
      "\u001b[1;31mdrugb INT NOT NULL,\u001b[0;0m",
      "\u001b[1;31mweight INT NOT NULL,\u001b[0;0m",
      "\u001b[1;31mPRIMARY KEY(druga, drugb)\u001b[0;0m",
      "\u001b[1;31m) AS SELECT\u001b[0;0m",
      "\u001b[1;31mdruga,\u001b[0;0m",
      "\u001b[1;31mdrugb,\u001b[0;0m",
      "\u001b[1;31mweight\u001b[0;0m",
      "\u001b[1;31mFROM CSVREAD('../../../data/faers-2017/results/drug-interaction.csv') [42101-197]\u001b[0;0m"
     ]
    }
   ],
   "source": [
    "CREATE TABLE DrugInteraction (\n",
    "  druga INT NOT NULL,\n",
    "  drugb INT NOT NULL,\n",
    "  weight INT NOT NULL,\n",
    "  PRIMARY KEY(druga, drugb)\n",
    ") AS SELECT\n",
    "    druga,\n",
    "    drugb,\n",
    "    weight\n",
    "FROM CSVREAD('../../../data/faers-2017/results/drug-interaction.csv');"
   ]
  },
  {
   "cell_type": "code",
   "execution_count": 6,
   "metadata": {},
   "outputs": [
    {
     "ename": "org.h2.jdbc.JdbcSQLException",
     "evalue": " Column \"DI.WEIGHT\" not found; SQL statement",
     "output_type": "error",
     "text": "org.h2.jdbc.JdbcSQLException: Column \"DI.WEIGHT\" not found; SQL statement:\nCREATE VIEW DrugInteraction30 AS\nSELECT * FROM DrugInteraction DI\nWHERE DI.weight > 30 [42122-197]",
     "traceback": [
      "\u001b[1;31morg.h2.jdbc.JdbcSQLException: Column \"DI.WEIGHT\" not found; SQL statement:\u001b[0;0m",
      "\u001b[1;31mCREATE VIEW DrugInteraction30 AS\u001b[0;0m",
      "\u001b[1;31mSELECT * FROM DrugInteraction DI\u001b[0;0m",
      "\u001b[1;31mWHERE DI.weight > 30 [42122-197]\u001b[0;0m"
     ]
    }
   ],
   "source": [
    "DROP VIEW DrugInteraction30 IF EXISTS;\n",
    "CREATE VIEW DrugInteraction30 AS\n",
    "SELECT * FROM DrugInteraction\n",
    "WHERE DrugInteraction.weight > 30\n",
    "ORDER BY druga, drub;\n",
    "\n",
    "SELECT * FROM DrugInteraction30;"
   ]
  },
  {
   "cell_type": "markdown",
   "metadata": {},
   "source": [
    "# Suporte\n",
    "\n",
    "### Qual o suporte que cada uma das associações tem?\n",
    "\n",
    "Gere uma consulta que apresente o suporte do **grupo mais 30**. Ordene o resultado por ordem de suporte. \n",
    "\n",
    "Observação: Para que o resultado da divisão seja fracionária, converta o numerador em `DOUBLE` usando:\n",
    "~~~sql\n",
    "CAST(campo AS DOUBLE)\n",
    "~~~"
   ]
  },
  {
   "cell_type": "code",
   "execution_count": null,
   "metadata": {},
   "outputs": [],
   "source": [
    "SELECT COUNT(*) FROM DrugInteraction;"
   ]
  },
  {
   "cell_type": "code",
   "execution_count": null,
   "metadata": {},
   "outputs": [],
   "source": [
    "SELECT druga, drugb, weight, CAST(weight AS DOUBLE) / 9073 Sup\n",
    "FROM DrugInteraction30\n",
    "ORDER BY Sup;"
   ]
  },
  {
   "cell_type": "markdown",
   "metadata": {},
   "source": [
    "# Confiança\n",
    "\n",
    "### Qual a confiança que cada uma das associações tem?\n",
    "\n",
    "Gere uma consulta que apresente a confiança do **grupo mais 30**. Ordene o resultado por ordem de confiança."
   ]
  },
  {
   "cell_type": "code",
   "execution_count": null,
   "metadata": {},
   "outputs": [],
   "source": [
    "SELECT Interaction30.druga, CAST(count(*) AS DOUBLE)/(SELECT count(*) FROM Interaction) AS trust\n",
    "FROM Interaction, Interaction30\n",
    "WHERE Interaction.druga = Interaction30.druga\n",
    "GROUP BY Interaction.druga\n",
    "ORDER BY trust;"
   ]
  },
  {
   "cell_type": "markdown",
   "metadata": {},
   "source": [
    "# Efeito Colateral\n",
    "\n",
    "Para cada medicamento, qual o percentual do medicamento A que tem efeito colateral junto com o medicamento B, quando comparado com seu uso sem o medicamento B."
   ]
  },
  {
   "cell_type": "code",
   "execution_count": null,
   "metadata": {},
   "outputs": [],
   "source": [
    "CREATE VIEW ReducedDrugUse AS\n",
    "SELECT *\n",
    "FROM DrugUse\n",
    "ORDER BY idPerson\n",
    "LIMIT 300;\n",
    "\n",
    "CREATE VIEW DrugsPerPerson AS\n",
    "SELECT idPerson,count(codeDrug) as drugCount\n",
    "FROM ReducedDrugUse\n",
    "GROUP BY idPerson;\n",
    "\n",
    "CREATE VIEW DrugAlone AS\n",
    "SELECT ReducedDrugUse.idPerson, ReducedDrugUse.codeDrug\n",
    "FROM ReducedDrugUse, DrugsPerPerson\n",
    "WHERE ReducedDrugUse.idPerson = DrugsPerPerson.idPerson AND DrugsPerPerson.drugCount = 1;\n",
    "\n",
    "CREATE VIEW DrugIntersection AS\n",
    "SELECT Du1.idPerson, Du1.codeDrug as druga, Du2.codeDrug AS drugb\n",
    "FROM ReducedDrugUse AS DU1, ReducedDrugUse AS DU2\n",
    "WHERE DU1.idPerson = DU2.idPerson AND Du1.codeDrug <> Du2.codeDrug AND DU1.codeDrug < DU2.codeDrug\n",
    "\n",
    "\n",
    "CREATE VIEW NumberOfSideEffectsByDrug AS\n",
    "SELECT codeDrug,count(codeDrug) as sideeffects\n",
    "FROM DrugAlone, SideEffect\n",
    "WHERE DrugAlone.idPerson = SideEffect.idPerson\n",
    "GROUP BY DrugAlone.codeDrug;\n",
    "\n",
    "CREATE VIEW NumberOfUsesByDrug AS\n",
    "SELECT codeDrug,count(DrugAlone.codeDrug) as uses\n",
    "FROM DrugAlone\n",
    "GROUP BY codeDrug;\n",
    "\n",
    "CREATE VIEW AloneSideEffectFrequency AS\n",
    "SELECT NumberOfUsesByDrug.codeDrug, CAST(NumberOfUsesByDrug.uses as DOUBLE)/ NumberOfSideEffectsByDrug.sideeffects as sideeffectfreq\n",
    "FROM NumberOfSideEffectsByDrug,NumberOfUsesByDrug\n",
    "WHERE NumberOfUsesByDrug.codeDrug = NumberOfSideEffectsByDrug.codeDrug\n",
    "\n",
    "\n",
    "CREATE VIEW NumberOfSideEffectsByDrugCombination AS\n",
    "SELECT druga,drugb,count(*) as sideeffects\n",
    "FROM DrugIntersection, SideEffect\n",
    "WHERE DrugIntersection.idPerson = SideEffect.idPerson\n",
    "GROUP BY druga,drugb;\n",
    "\n",
    "\n",
    "CREATE VIEW NumberOfUsesByDrugCombination AS\n",
    "SELECT druga,drugb,count(*) as uses\n",
    "FROM DrugIntersection\n",
    "GROUP BY druga,drugb;\n",
    "\n",
    "CREATE VIEW CombinedSideEffectFrequency AS\n",
    "SELECT SideComb.druga, SideComb.drugb, CAST(NUses.uses AS DOUBLE)/SideComb.sideeffects as sideeffectfreq\n",
    "FROM NumberOfSideEffectsByDrugCombination AS SideComb, NumberOfUsesByDrugCombination as NUses\n",
    "WHERE SideComb.druga = NUses.druga and SideComb.drugb = NUSes.drugb\n",
    "\n",
    "\n",
    "SELECT Comb.druga, Comb.drugb, Comb.sideeffectfreq/Alone.sideeffectfreq\n",
    "FROM CombinedSideEffectFrequency as Comb, AloneSideEffectFrequency as Alone\n",
    "WHERE Comb.druga = Alone.codeDrug;"
   ]
  }
 ],
 "metadata": {
  "kernelspec": {
   "display_name": "SQL",
   "language": "SQL",
   "name": "sql"
  },
  "language_info": {
   "codemirror_mode": "sql",
   "file_extension": ".sql",
   "mimetype": "",
   "name": "SQL",
   "nbconverter_exporter": "",
   "version": ""
  },
  "toc": {
   "base_numbering": 1,
   "nav_menu": {},
   "number_sections": false,
   "sideBar": false,
   "skip_h1_title": false,
   "title_cell": "Table of Contents",
   "title_sidebar": "Contents",
   "toc_cell": false,
   "toc_position": {},
   "toc_section_display": false,
   "toc_window_display": false
  }
 },
 "nbformat": 4,
 "nbformat_minor": 4
}
