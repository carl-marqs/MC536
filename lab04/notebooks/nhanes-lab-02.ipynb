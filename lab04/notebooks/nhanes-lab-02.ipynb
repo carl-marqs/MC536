{
 "cells": [
  {
   "cell_type": "code",
   "execution_count": null,
   "metadata": {},
   "outputs": [],
   "source": [
    "%defaultDatasource jdbc:h2:mem:db"
   ]
  },
  {
   "cell_type": "markdown",
   "metadata": {},
   "source": [
    "# Analisando o Uso de Medicamentos\n",
    "* Esta tarefa analisará os dados conforme três abordagens: análise do comportamento estatístico; análise de correlação entre pares; análise de correlação de variáveis.\n",
    "* A partir dos arquivos CSV que estão no diretórios /data/nhanes considere as seguintes tabelas SQL."
   ]
  },
  {
   "cell_type": "code",
   "execution_count": null,
   "metadata": {},
   "outputs": [],
   "source": [
    "DROP TABLE IF EXISTS Pessoa;\n",
    "DROP TABLE IF EXISTS Medicamento;\n",
    "DROP TABLE IF EXISTS UsoMedicamento;\n",
    "\n",
    "CREATE TABLE Pessoa (\n",
    "  Id VARCHAR(5) NOT NULL,\n",
    "  Genero INTEGER,\n",
    "  Idade INTEGER,\n",
    "  PRIMARY KEY(Id)\n",
    ") AS SELECT\n",
    "    Id,\n",
    "    Genero,\n",
    "    Idade\n",
    "FROM CSVREAD('../../../data/nhanes/demographic-person.csv');\n",
    "\n",
    "CREATE TABLE Medicamento (\n",
    "  Codigo VARCHAR(6) NOT NULL,\n",
    "  NomeMedicamento VARCHAR(100) NOT NULL,\n",
    "  PRIMARY KEY(Codigo)\n",
    ") AS SELECT\n",
    "    Codigo,\n",
    "    NomeMedicamento\n",
    "FROM CSVREAD('../../../data/nhanes/medications-drug.csv');\n",
    "\n",
    "CREATE TABLE UsoMedicamento (\n",
    "  IdPessoa VARCHAR(5) NOT NULL,\n",
    "  CodMedicamento VARCHAR(6) NOT NULL,\n",
    "  DiasUso INTEGER,\n",
    "  FOREIGN KEY(IdPessoa)\n",
    "    REFERENCES Pessoa(Id)\n",
    "      ON DELETE NO ACTION\n",
    "      ON UPDATE NO ACTION,\n",
    "  FOREIGN KEY(CodMedicamento)\n",
    "    REFERENCES Medicamento(Codigo)\n",
    "      ON DELETE NO ACTION\n",
    "      ON UPDATE NO ACTION\n",
    ") AS SELECT\n",
    "    IdPessoa,\n",
    "    CodMedicamento,\n",
    "    DiasUso\n",
    "FROM CSVREAD('../../../data/nhanes/medications-use.csv');"
   ]
  },
  {
   "cell_type": "code",
   "execution_count": null,
   "metadata": {},
   "outputs": [],
   "source": [
    "SELECT * FROM Pessoa;\n",
    "SELECT * FROM Medicamento;\n",
    "SELECT * FROM UsoMedicamento ORDER BY CodMedicamento;"
   ]
  },
  {
   "cell_type": "markdown",
   "metadata": {},
   "source": [
    "# I. Análise de comportamento estatístico"
   ]
  },
  {
   "cell_type": "markdown",
   "metadata": {},
   "source": [
    "## 1) Contabilizando o uso de medicamentos\n",
    "\n",
    "* Liste o nome de todos os medicamentos e a quantidade de pessoas que usa cada um deles."
   ]
  },
  {
   "cell_type": "code",
   "execution_count": null,
   "metadata": {},
   "outputs": [],
   "source": [
    "SELECT M.NomeMedicamento, Count(*) QuantidadeUsuarios\n",
    "FROM Medicamento M, UsoMedicamento U\n",
    "WHERE M.Codigo = U.CodMedicamento\n",
    "GROUP BY U.CodMedicamento;"
   ]
  },
  {
   "cell_type": "markdown",
   "metadata": {},
   "source": [
    "## 2) Medicamento mais usado com VIEW\n",
    "\n",
    "* Informe o código do medicamento mais usado: fazendo uso de VIEW."
   ]
  },
  {
   "cell_type": "code",
   "execution_count": null,
   "metadata": {},
   "outputs": [],
   "source": [
    "DROP VIEW IF EXISTS QuantidadeUsuarios;\n",
    "\n",
    "CREATE VIEW QuantidadeUsuarios AS\n",
    "SELECT CodMedicamento, Count(*) AS Quantidade\n",
    "FROM UsoMedicamento\n",
    "GROUP BY CodMedicamento;\n",
    "\n",
    "SELECT *\n",
    "FROM QuantidadeUsuarios\n",
    "ORDER BY Quantidade DESC\n",
    "LIMIT 1;"
   ]
  },
  {
   "cell_type": "code",
   "execution_count": null,
   "metadata": {},
   "outputs": [],
   "source": [
    "DROP VIEW IF EXISTS MaiorQuantidade;\n",
    "\n",
    "CREATE VIEW MaiorQuantidade AS\n",
    "SELECT MAX(Quantidade) Maior\n",
    "FROM QuantidadeUsuarios;\n",
    "\n",
    "SELECT Q.CodMedicamento, M.Maior\n",
    "FROM QuantidadeUsuarios Q, MaiorQuantidade M\n",
    "WHERE Q.Quantidade = M.Maior;"
   ]
  },
  {
   "cell_type": "markdown",
   "metadata": {},
   "source": [
    "## 3) Medicamento mais usado sem VIEW\n",
    "\n",
    "* Informe o código do medicamento mais usado: sem fazer uso de VIEW."
   ]
  },
  {
   "cell_type": "code",
   "execution_count": null,
   "metadata": {},
   "outputs": [],
   "source": [
    "SELECT CodMedicamento, Count(*) AS Quantidade\n",
    "FROM UsoMedicamento\n",
    "GROUP BY CodMedicamento\n",
    "ORDER BY Quantidade DESC\n",
    "LIMIT 1;"
   ]
  },
  {
   "cell_type": "markdown",
   "metadata": {},
   "source": [
    "## 4) Nome do medicamento mais usado\n",
    "* Informe o nome do medicamento mais usado (uso de VIEW é opcional)."
   ]
  },
  {
   "cell_type": "code",
   "execution_count": null,
   "metadata": {},
   "outputs": [],
   "source": [
    "SELECT M.NomeMedicamento, Count(*) QuantidadeUsuarios\n",
    "FROM Medicamento M, UsoMedicamento U\n",
    "WHERE M.Codigo = U.CodMedicamento\n",
    "GROUP BY U.CodMedicamento\n",
    "ORDER BY QuantidadeUsuarios DESC\n",
    "LIMIT 1;"
   ]
  },
  {
   "cell_type": "markdown",
   "metadata": {},
   "source": [
    "## 5) Contabilizando quanto as pessoas usam de medicamento\n",
    "\n",
    "* Informe o número médio de uso de medicamento por pessoa."
   ]
  },
  {
   "cell_type": "code",
   "execution_count": null,
   "metadata": {},
   "outputs": [],
   "source": [
    "SELECT AVG(NumeroMedicamentos) MediaMedicamentos\n",
    "FROM (SELECT COUNT(*) Numeromedicamentos\n",
    "      FROM UsoMedicamento\n",
    "      GROUP BY IdPessoa);"
   ]
  },
  {
   "cell_type": "markdown",
   "metadata": {},
   "source": [
    "## 6) Pessoas que usam mais do que a média\n",
    "\n",
    "* Liste o id das pessoas que usam mais medicamentos do que a média."
   ]
  },
  {
   "cell_type": "code",
   "execution_count": null,
   "metadata": {},
   "outputs": [],
   "source": [
    "SELECT IdPessoa, COUNT(*) Numeromedicamentos\n",
    "FROM UsoMedicamento\n",
    "GROUP BY IdPessoa\n",
    "HAVING Numeromedicamentos > (SELECT AVG(NumeroMedicamentos) MediaMedicamentos\n",
    "                             FROM (SELECT COUNT(*) Numeromedicamentos\n",
    "                                   FROM UsoMedicamento\n",
    "                                   GROUP BY IdPessoa))"
   ]
  },
  {
   "cell_type": "markdown",
   "metadata": {},
   "source": [
    "## 7) Análise do uso de medicamento\n",
    "\n",
    "* Considere que um médico quer responder a seguinte questão: pessoas tendem a usar mais medicamentos conforme ficam mais velhas?\n",
    "* Escreva uma query que ajude o médico a realizar esta análise."
   ]
  },
  {
   "cell_type": "code",
   "execution_count": null,
   "metadata": {},
   "outputs": [],
   "source": [
    "SELECT IdadePessoa, AVG(NumeroMedicamentos) MediaMedicamentos\n",
    "FROM (SELECT P.Idade IdadePessoa, COUNT(*) Numeromedicamentos\n",
    "      FROM Pessoa P, UsoMedicamento U\n",
    "      WHERE P.Id = U.IdPessoa\n",
    "      GROUP BY IdPessoa)\n",
    "GROUP BY IdadePessoa\n",
    "ORDER BY IdadePessoa;"
   ]
  },
  {
   "cell_type": "markdown",
   "metadata": {},
   "source": [
    "# II. Análise de correlação em pares\n",
    "## Estudo de ação cruzada entre medicamentos\n",
    "\n",
    "* Um pesquisador quer estudar o efeito cruzado de usar dois medicamentos simultaneamente. \n",
    "* Para isso ele precisará da seguinte sequência de queries."
   ]
  },
  {
   "cell_type": "markdown",
   "metadata": {},
   "source": [
    "## 8) Medicamentos tomados em conjunto\n",
    "* Construa uma VIEW com duas colunas: medicamentoA, medicamentoB\n",
    "* Nessa VIEW, é criada uma tupla (medicamentoA, medicamentoB) toda vez que uma pessoa toma o medicamento A e também o medicamento B.\n",
    "* Haverá repetição de tuplas, já que mais de uma pessoa pode tomar o mesmo par de medicamentos.\n",
    "* Cuidado para não duplicar a mesma informação, ou seja, considerando que uma pessoa tomou o medicamentoX e o medicamentoY, cuidado para não criar duas tuplas: (medicamentoX, medicamentoY) e (medicamentoY, medicamentoX)."
   ]
  },
  {
   "cell_type": "code",
   "execution_count": null,
   "metadata": {},
   "outputs": [],
   "source": [
    "DROP VIEW UsoMedicamentoB IF EXISTS;\n",
    "DROP VIEW MedicamentosConjunto IF EXISTS;\n",
    "\n",
    "CREATE VIEW UsoMedicamentoB AS\n",
    "SELECT IdPessoa IdPessoaB, CodMedicamento CodMedicamentoB\n",
    "FROM UsoMedicamento;\n",
    "\n",
    "CREATE VIEW MedicamentosConjunto AS\n",
    "SELECT U1.CodMedicamento medicamentoA, U2.CodMedicamentoB medicamentoB\n",
    "FROM UsoMedicamento U1, UsoMedicamentoB U2\n",
    "WHERE U1.IdPessoa = U2.IdPessoaB AND U1.CodMedicamento > U2.CodMedicamentoB;\n",
    "\n",
    "SELECT * FROM MedicamentosConjunto;"
   ]
  },
  {
   "cell_type": "markdown",
   "metadata": {},
   "source": [
    "## 9) Total de medicamento tomados em conjunto\n",
    "* Apresente o total de pessoas que toma cada par de medicamentos."
   ]
  },
  {
   "cell_type": "code",
   "execution_count": null,
   "metadata": {},
   "outputs": [],
   "source": [
    "SELECT medicamentoA, medicamentoB, COUNT(*) QuantidadeConjunta\n",
    "FROM MedicamentosConjunto\n",
    "GROUP BY medicamentoA, medicamentoB;"
   ]
  },
  {
   "cell_type": "markdown",
   "metadata": {},
   "source": [
    "# III. Análise de correlação entre variáveis\n",
    "* Consiste na análise da seguinte questão: como a alteração de uma variável afeta a outra.\n",
    "## Matriz de análise\n",
    "* Considere a matriz abaixo."
   ]
  },
  {
   "cell_type": "code",
   "execution_count": null,
   "metadata": {},
   "outputs": [],
   "source": [
    "CREATE TABLE Matriz (\n",
    "  Id VARCHAR(5) NOT NULL,\n",
    "  Genero INTEGER,\n",
    "  Idade INTEGER,\n",
    "  IdadeAte60 BOOLEAN,\n",
    "  MaisUmAnoMedicamento BOOLEAN,\n",
    "  MedicamentosAcimaMedia BOOLEAN,\n",
    "  PRIMARY KEY(Id)\n",
    ") AS SELECT\n",
    "    Id,\n",
    "    Genero,\n",
    "    Idade,\n",
    "    FALSE, FALSE, FALSE\n",
    "FROM CSVREAD('../../../data/nhanes/demographic-person.csv');\n",
    "\n",
    "SELECT * FROM Matriz;"
   ]
  },
  {
   "cell_type": "markdown",
   "metadata": {},
   "source": [
    "## 10) Atualização simples da matriz\n",
    "* Utilize o comando UPDATE para atualizar a coluna IdadeAte60 da tabela colocando verdadeiro para as pessoas que têm até 60 anos de idade."
   ]
  },
  {
   "cell_type": "code",
   "execution_count": null,
   "metadata": {},
   "outputs": [],
   "source": [
    "UPDATE Matriz\n",
    "SET IdadeAte60 = TRUE\n",
    "WHERE Idade <=60;\n",
    "\n",
    "SELECT * FROM Matriz;"
   ]
  },
  {
   "cell_type": "markdown",
   "metadata": {},
   "source": [
    "## 11) Atualização vinculada a uma segunda tabela\n",
    "* Utilize o comando UPDATE para atualizar a coluna MaisUmAnoMedicamento, colocando verdadeiro para aquelas pessoas que usam pelo menos um medicamento há mais de um ano."
   ]
  },
  {
   "cell_type": "code",
   "execution_count": null,
   "metadata": {},
   "outputs": [],
   "source": [
    "SELECT DISTINCT IdPessoa\n",
    "             FROM UsoMedicamento\n",
    "             WHERE DiasUso > 365;\n",
    "\n",
    "UPDATE Matriz\n",
    "SET MaisUmAnoMedicamento = TRUE\n",
    "WHERE Id IN (SELECT DISTINCT IdPessoa\n",
    "             FROM UsoMedicamento\n",
    "             WHERE DiasUso > 365);\n",
    "             \n",
    "SELECT * FROM Matriz;"
   ]
  },
  {
   "cell_type": "markdown",
   "metadata": {},
   "source": [
    "## 12) Atualização baseada em uma consulta complexa\n",
    "* Utilize o comando UPDATE para atualizar a coluna MedicamentosAcimaMedia, colocando verdadeiro para aquelas pessoas que usam um número de medicamentos acima da média."
   ]
  },
  {
   "cell_type": "code",
   "execution_count": null,
   "metadata": {
    "scrolled": true
   },
   "outputs": [],
   "source": [
    "UPDATE Matriz\n",
    "SET MedicamentosAcimaMedia = TRUE\n",
    "WHERE Id IN (\n",
    "    SELECT IdPessoa\n",
    "    FROM UsoMedicamento\n",
    "    GROUP BY IdPessoa\n",
    "    HAVING COUNT(*) > (\n",
    "        SELECT AVG(NumeroMedicamentos) MediaMedicamentos\n",
    "        FROM (SELECT COUNT(*) Numeromedicamentos\n",
    "              FROM UsoMedicamento\n",
    "              GROUP BY IdPessoa)));\n",
    "              \n",
    "SELECT * FROM Matriz WHERE MedicamentosAcimaMedia = TRUE;"
   ]
  },
  {
   "cell_type": "markdown",
   "metadata": {},
   "source": [
    "## 13) Que análise interessante pode ser feita?\n",
    "* A partir da Matriz criada, proponha uma análise interessante."
   ]
  },
  {
   "cell_type": "markdown",
   "metadata": {},
   "source": [
    "### 13a) Descreva a seguir (em Markdown) qual a análise que você propõe."
   ]
  },
  {
   "cell_type": "markdown",
   "metadata": {},
   "source": [
    "É possível efetuar diversas análises com a matriz proposta, como por exemplo checar a correlação entre ambos os gêneros, para identificar qual dos dois possui hábitos mais saudáveis e a longevidade é maior.\n",
    "\n",
    "Para isso, basta agrupá-los por gênero e calcular o somatório das colunas IdadeAte60, MaisUmAnoMedicamento e MedicamentosAcimaMedia para quando seu resultado é \"true\"."
   ]
  },
  {
   "cell_type": "markdown",
   "metadata": {},
   "source": [
    "### 13b) Escreva uma consulta em SQL que fornece informações para a análise proposta."
   ]
  },
  {
   "cell_type": "code",
   "execution_count": null,
   "metadata": {},
   "outputs": [],
   "source": [
    "SELECT COUNT(*) NumeroLinhas,\n",
    "    COUNT(CASE WHEN IdadeAte60 = true THEN 1 END) CountIdadeAte60,\n",
    "    COUNT(CASE WHEN MaisUmAnoMedicamento = true THEN 1 END) CountMaisUmAnoMedicamento,\n",
    "    COUNT(CASE WHEN MedicamentosAcimaMedia = true THEN 1 END) CountMedicamentosAcimaMedia\n",
    "        FROM Matriz\n",
    "        GROUP BY Genero;"
   ]
  }
 ],
 "metadata": {
  "kernelspec": {
   "display_name": "Python 3",
   "language": "python",
   "name": "python3"
  },
  "language_info": {
   "codemirror_mode": {
    "name": "ipython",
    "version": 3
   },
   "file_extension": ".py",
   "mimetype": "text/x-python",
   "name": "python",
   "nbconvert_exporter": "python",
   "pygments_lexer": "ipython3",
   "version": "3.8.5"
  },
  "toc": {
   "base_numbering": 1,
   "nav_menu": {},
   "number_sections": false,
   "sideBar": false,
   "skip_h1_title": false,
   "title_cell": "Table of Contents",
   "title_sidebar": "Contents",
   "toc_cell": false,
   "toc_position": {},
   "toc_section_display": false,
   "toc_window_display": false
  }
 },
 "nbformat": 4,
 "nbformat_minor": 4
}
